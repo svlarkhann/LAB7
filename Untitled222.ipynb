{
 "cells": [
  {
   "cell_type": "code",
   "execution_count": 13,
   "id": "4523b455-ba6c-4ad6-bb20-b9d8977fded1",
   "metadata": {},
   "outputs": [
    {
     "name": "stdout",
     "output_type": "stream",
     "text": [
      "Statistics for Red Channel:\n",
      "Mean: 0.02\n",
      "Median: 0.02\n",
      "Mode: 0.0\n",
      "\n",
      "Standard Deviation: 0.01\n",
      "\n",
      "Statistics for NIR Channel:\n",
      "Mean: 0.02\n",
      "Median: 0.02\n",
      "Mode: 0.0\n",
      "\n",
      "Standard Deviation: 0.01\n",
      "\n",
      "Statistics for Blue Channel:\n",
      "Mean: 0.02\n",
      "Median: 0.02\n",
      "Mode: 0.0\n",
      "\n",
      "Standard Deviation: 0.00\n",
      "\n"
     ]
    }
   ],
   "source": [
    "import numpy as np\n",
    "from astropy.io import fits\n",
    "\n",
    "def compute_statistics(data, channel_name):\n",
    "    mean_value = np.mean(data)\n",
    "    median_value = np.median(data)\n",
    "\n",
    "    mode_data = np.round(data).astype(int)\n",
    "    mode_data = mode_data[mode_data >= 0]\n",
    "    \n",
    "    if mode_data.size > 0:\n",
    "        mode_value = float(np.argmax(np.bincount(mode_data.ravel())))\n",
    "    else:\n",
    "        mode_value = None\n",
    "    \n",
    "    std_deviation = np.std(data)\n",
    "    \n",
    "    print(f\"Statistics for {channel_name} Channel:\")\n",
    "    print(f\"Mean: {mean_value:.2f}\")\n",
    "    print(f\"Median: {median_value:.2f}\")\n",
    "    print(f\"Mode: {mode_value}\\n\")\n",
    "    print(f\"Standard Deviation: {std_deviation:.2f}\\n\")\n",
    "    \n",
    "hdulist_red = fits.open(\"C:\\\\Users\\\\STUDENT 10\\\\Desktop\\\\M51_red.fit\")\n",
    "hdulist_green = fits.open(\"C:\\\\Users\\\\STUDENT 10\\\\Desktop\\\\M51_green.fit\")\n",
    "hdulist_blue = fits.open(\"C:\\\\Users\\\\STUDENT 10\\\\Desktop\\\\M51_blue.fit\")\n",
    "\n",
    "data_red = hdulist_red[0].data\n",
    "data_nir = hdulist_green[0].data\n",
    "data_blue = hdulist_blue[0].data\n",
    "\n",
    "hdulist_red.close()\n",
    "hdulist_green.close()\n",
    "hdulist_blue.close()\n",
    "\n",
    "compute_statistics(data_red, 'Red')\n",
    "compute_statistics(data_nir, 'NIR')\n",
    "compute_statistics(data_blue, 'Blue')"
   ]
  },
  {
   "cell_type": "code",
   "execution_count": null,
   "id": "99fbec04-5a34-41f3-bed5-1dddbb0d65fe",
   "metadata": {},
   "outputs": [],
   "source": []
  }
 ],
 "metadata": {
  "kernelspec": {
   "display_name": "Python 3 (ipykernel)",
   "language": "python",
   "name": "python3"
  },
  "language_info": {
   "codemirror_mode": {
    "name": "ipython",
    "version": 3
   },
   "file_extension": ".py",
   "mimetype": "text/x-python",
   "name": "python",
   "nbconvert_exporter": "python",
   "pygments_lexer": "ipython3",
   "version": "3.10.11"
  }
 },
 "nbformat": 4,
 "nbformat_minor": 5
}
